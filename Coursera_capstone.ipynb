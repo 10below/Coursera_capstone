{
    "cells": [
        {
            "cell_type": "markdown",
            "metadata": {
                "collapsed": true
            },
            "source": "# IBM Capstone Project - Applied Data Science\n\nThis notebook will be used for the final course in this IBM series.\n"
        },
        {
            "cell_type": "markdown",
            "metadata": {},
            "source": "Import libraries:"
        },
        {
            "cell_type": "code",
            "execution_count": 1,
            "metadata": {},
            "outputs": [],
            "source": "import pandas as pd\nimport numpy as np"
        },
        {
            "cell_type": "markdown",
            "metadata": {},
            "source": "First exercise, use print statement"
        },
        {
            "cell_type": "code",
            "execution_count": 2,
            "metadata": {},
            "outputs": [
                {
                    "name": "stdout",
                    "output_type": "stream",
                    "text": "Hello Capstone project course!\n"
                }
            ],
            "source": "print('Hello Capstone project course!')"
        },
        {
            "cell_type": "markdown",
            "metadata": {},
            "source": "## Segmenting and clustering neighborhoods in Toronto"
        },
        {
            "cell_type": "markdown",
            "metadata": {},
            "source": "In this section we will use the Wikipedia page containing the neighbourhoods in Canada and scrape them to obtain the Postal Code, Burough and Neighborhood.\n\nWe will use BeautifulSoup to scrape the webpage. \n\nFirst we will read the webpage using requests:"
        },
        {
            "cell_type": "code",
            "execution_count": 3,
            "metadata": {},
            "outputs": [
                {
                    "data": {
                        "text/plain": "<Response [200]>"
                    },
                    "execution_count": 3,
                    "metadata": {},
                    "output_type": "execute_result"
                }
            ],
            "source": "import requests\n\npage = requests.get('https://en.wikipedia.org/wiki/List_of_postal_codes_of_Canada:_M')\n\npage\n\n#A response of 200 indicates the page downloaded succesfully"
        },
        {
            "cell_type": "code",
            "execution_count": 4,
            "metadata": {},
            "outputs": [],
            "source": "#Use BeautifulSoup to be able to parse the loaded page\nfrom bs4 import BeautifulSoup\nsoup = BeautifulSoup(page.content, 'html.parser')"
        },
        {
            "cell_type": "code",
            "execution_count": 5,
            "metadata": {},
            "outputs": [],
            "source": "#The relevant data is stored in the first HTML table on the page\ntable = soup.find('table')"
        },
        {
            "cell_type": "code",
            "execution_count": 6,
            "metadata": {},
            "outputs": [],
            "source": "#Uncomment the next line to inspect the HTML if needed\n#print(table.prettify())"
        },
        {
            "cell_type": "code",
            "execution_count": 7,
            "metadata": {},
            "outputs": [],
            "source": "table_contents=[]\n\nfor row in table.findAll('td'):\n    cell = {}\n    #We ignore rows where the burough or neigborhood is not assigned \n    if row.span.text=='Not assigned':\n        pass\n    else:\n        #The Postalcode is 3 characters and can be found in the p tag\n        cell['PostalCode'] = row.p.text[:3]\n        #The Borough and Neighborhood can be found in the span tag and is one string of text where the neighborhood is after the burough \n        #the Neighborhood is noted in parentheses so the ( character is used as a text split to find the Burough\n        cell['Borough'] = (row.span.text).split('(')[0]\n        #the Neighborhood is found by taking the text after the ( character\n        #the ) character at the end is stripped, and other cleanup actions for other special characters and trailing spaces\n        cell['Neighborhood'] = (((((row.span.text).split('(')[1]).strip(')')).replace(' /',',')).replace(')',' ')).strip(' ')\n        table_contents.append(cell)\n\n# print(table_contents)\n# Put results in pandas dataframe\ndf=pd.DataFrame(table_contents)\n# Replace specific buroughs as per the lab instructions\ndf['Borough']=df['Borough'].replace({'Downtown TorontoStn A PO Boxes25 The Esplanade':'Downtown Toronto Stn A',\n                                             'East TorontoBusiness reply mail Processing Centre969 Eastern':'East Toronto Business',\n                                             'EtobicokeNorthwest':'Etobicoke Northwest','East YorkEast Toronto':'East York/East Toronto',\n                                             'MississaugaCanada Post Gateway Processing Centre':'Mississauga'})"
        },
        {
            "cell_type": "code",
            "execution_count": 11,
            "metadata": {},
            "outputs": [
                {
                    "data": {
                        "text/plain": "(103, 3)"
                    },
                    "execution_count": 11,
                    "metadata": {},
                    "output_type": "execute_result"
                }
            ],
            "source": "#Uncomment the next lines to see the dataframe sorted by PostalCode\n#df.sort_values(by=['PostalCode'])\n\n#Final reqest to show number of rows and columns\ndf.shape"
        },
        {
            "cell_type": "code",
            "execution_count": null,
            "metadata": {},
            "outputs": [],
            "source": ""
        }
    ],
    "metadata": {
        "kernelspec": {
            "display_name": "Python 3.7",
            "language": "python",
            "name": "python3"
        },
        "language_info": {
            "codemirror_mode": {
                "name": "ipython",
                "version": 3
            },
            "file_extension": ".py",
            "mimetype": "text/x-python",
            "name": "python",
            "nbconvert_exporter": "python",
            "pygments_lexer": "ipython3",
            "version": "3.7.10"
        }
    },
    "nbformat": 4,
    "nbformat_minor": 1
}