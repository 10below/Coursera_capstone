{
    "cells": [
        {
            "cell_type": "markdown",
            "metadata": {},
            "source": ""
        },
        {
            "cell_type": "markdown",
            "metadata": {
                "collapsed": true
            },
            "source": "# Jeroen Riedstra - Clustering Amsterdam Week 1\n\n## Assignment Recap:\n\nNow that you have been equipped with the skills and the tools to use location data to explore a geographical location, over the course of two weeks, you will have the opportunity to be as creative as you want and come up with an idea to leverage the Foursquare location data to explore or compare neighborhoods or cities of your choice or to come up with a problem that you can use the Foursquare location data to solve. If you cannot think of an idea or a problem, here are some ideas to get you started:\n\nIn Module 3, we explored New York City and the city of Toronto and segmented and clustered their neighborhoods. Both cities are very diverse and are the financial capitals of their respective countries. \n\n1. One interesting idea would be to compare the neighborhoods of the two cities and determine how similar or dissimilar they are. Is New York City more like Toronto or Paris or some other multicultural city? I will leave it to you to refine this idea.\n\n2. In a city of your choice, if someone is looking to open a restaurant, where would you recommend that they open it? Similarly, if a contractor is trying to start their own business, where would you recommend that they setup their office?\nThese are just a couple of many ideas and problems that can be solved using location data in addition to other datasets. No matter what you decide to do, make sure to provide sufficient justification of why you think what you want to do or solve is important and why would a client or a group of people be interested in your project.\n\nFor this week, you will required to submit the following:\n\n- A description of the problem and a discussion of the background. (15 marks)\n- A description of the data and how it will be used to solve the problem. (15 marks)\n\n"
        },
        {
            "cell_type": "markdown",
            "metadata": {},
            "source": "## 1. Introduction / Business Problem"
        },
        {
            "cell_type": "markdown",
            "metadata": {},
            "source": "For this assignment I have decided to make my hometown, which is Amsterdam, the city of choice. I wish to leverage the data in Foursquare available for this capital city of the Netherlands to be able to give advice to entrepeneurs. By applying (k-means) clustering unsupervised machine learning on the FourSquare data we should be able to answer some basic questions. \n\nHopefully, by applying similar techniques as have been applied in the previous examples for New York and Toronto, the combination of city data (e.g. neighborhoods, zip codes) and FourSquare venue data, will allow Amsterdam to be clustered, and we can identify some of the main characteristics of each cluster (business area, residential, etc.). \n\nThis clustering will allow me to give advice to entrepeneurs. In my example I imagine I have a client who wants to open a restaurant in Amsterdam, and where would I recommend they do that. The client further states he has no interest in opening a restaurant in a \"saturated\" area, where there are already a lot of restaurants / competition, but he wants to know can I identify any \"up and coming\" areas.\n\nI aim to answer that question by seeing if there are clusters where restaurants are not the main characteristic, but the characteristics do show potential for opening a restaurant (meaning restaurants or similar venues do not occupy the top stops but are also not way down in the ranking).\n\nPlease note that I realize this is highly simplified, but for the means of this exercise I am using the assumption that neighborhoods with many restaurant venues are interpreted to be unattractive given high competition, and neighborhoods with less restaurant venues are interpreted to be attractive when they located near a cluster which has a high restaurant ranking. Then this neighborhood is deemed to have restaurant potential."
        },
        {
            "cell_type": "markdown",
            "metadata": {},
            "source": "## 2. Data"
        },
        {
            "cell_type": "markdown",
            "metadata": {},
            "source": "For this exercise we need to use two datasets as input:\n\n1. FourSquare venue data for the city of Amsterdam, Netherlands\n\nSimilar to the prior exercises we can use the FourSquare API to extract venue data, mainly the geographical coordinates and category of the venue. Since FourSquare is not heavily used in the Netherlands I hope that there is enough data to work with.\n\n2. City of Amsterdam neighborhood or zipcode data\n\nIn order to group venues together by geographical location we need a dataset to do that. This could be a dataset consisting of the different neighborhoods and their geographical locations for the city, or a list of zipcodes and their geographical locations.\n\nThe high-level process to answer the question will then be:\n\n- Find suitable city of Amsterdam data (neighborhoods), prepare and import\n- Use FourSquare API to import venues for each neighborhood\n- Apply k-means clustering algorithm \n- Plot on map for visual representation and validation\n- Analyze the clusters on restaurants\n- Recommend neighborhoods where the cluster shows restaurant potential\n"
        }
    ],
    "metadata": {
        "kernelspec": {
            "display_name": "Python 3.7",
            "language": "python",
            "name": "python3"
        },
        "language_info": {
            "codemirror_mode": {
                "name": "ipython",
                "version": 3
            },
            "file_extension": ".py",
            "mimetype": "text/x-python",
            "name": "python",
            "nbconvert_exporter": "python",
            "pygments_lexer": "ipython3",
            "version": "3.7.10"
        }
    },
    "nbformat": 4,
    "nbformat_minor": 1
}